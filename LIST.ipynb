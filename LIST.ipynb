{
 "cells": [
  {
   "cell_type": "markdown",
   "id": "f89316b6",
   "metadata": {},
   "source": [
    "# List\n"
   ]
  },
  {
   "cell_type": "markdown",
   "id": "879e39ed",
   "metadata": {},
   "source": [
    "## list is a collection of different data types\n",
    "\n",
    "## list is represented in [ ] square brackets"
   ]
  },
  {
   "cell_type": "code",
   "execution_count": 18,
   "id": "9a4b36e1",
   "metadata": {},
   "outputs": [],
   "source": [
    "f = ['code with you']"
   ]
  },
  {
   "cell_type": "code",
   "execution_count": 19,
   "id": "42dba7dd",
   "metadata": {},
   "outputs": [
    {
     "data": {
      "text/plain": [
       "list"
      ]
     },
     "execution_count": 19,
     "metadata": {},
     "output_type": "execute_result"
    }
   ],
   "source": [
    "type(f)"
   ]
  },
  {
   "cell_type": "code",
   "execution_count": 20,
   "id": "86d729f4",
   "metadata": {},
   "outputs": [],
   "source": [
    "g = [56,\"cans\", 'vamsi']"
   ]
  },
  {
   "cell_type": "code",
   "execution_count": 21,
   "id": "23e19d35",
   "metadata": {},
   "outputs": [
    {
     "data": {
      "text/plain": [
       "['code with you', 56, 'cans', 'vamsi']"
      ]
     },
     "execution_count": 21,
     "metadata": {},
     "output_type": "execute_result"
    }
   ],
   "source": [
    "f + g"
   ]
  },
  {
   "cell_type": "code",
   "execution_count": 23,
   "id": "d4e9d382",
   "metadata": {},
   "outputs": [
    {
     "data": {
      "text/plain": [
       "['code with you']"
      ]
     },
     "execution_count": 23,
     "metadata": {},
     "output_type": "execute_result"
    }
   ],
   "source": [
    "f * 1"
   ]
  },
  {
   "cell_type": "markdown",
   "id": "243a6d13",
   "metadata": {},
   "source": [
    "# Methods"
   ]
  },
  {
   "cell_type": "code",
   "execution_count": 32,
   "id": "712d42d9",
   "metadata": {},
   "outputs": [],
   "source": [
    "g = [56,\"cans\", 'vamsi']"
   ]
  },
  {
   "cell_type": "code",
   "execution_count": 33,
   "id": "3cb8f054",
   "metadata": {},
   "outputs": [
    {
     "data": {
      "text/plain": [
       "'vamsi'"
      ]
     },
     "execution_count": 33,
     "metadata": {},
     "output_type": "execute_result"
    }
   ],
   "source": [
    "g.pop()"
   ]
  },
  {
   "cell_type": "code",
   "execution_count": 35,
   "id": "406181de",
   "metadata": {},
   "outputs": [
    {
     "data": {
      "text/plain": [
       "3"
      ]
     },
     "execution_count": 35,
     "metadata": {},
     "output_type": "execute_result"
    }
   ],
   "source": [
    "g = [56,\"cans\", 'vamsi']\n",
    "len(g)"
   ]
  },
  {
   "cell_type": "code",
   "execution_count": 37,
   "id": "7a6bf0f6",
   "metadata": {},
   "outputs": [],
   "source": [
    "c= [2.5,5,6,8,9]"
   ]
  },
  {
   "cell_type": "code",
   "execution_count": 38,
   "id": "db1f7eb8",
   "metadata": {},
   "outputs": [
    {
     "data": {
      "text/plain": [
       "9"
      ]
     },
     "execution_count": 38,
     "metadata": {},
     "output_type": "execute_result"
    }
   ],
   "source": [
    "max(c)"
   ]
  },
  {
   "cell_type": "code",
   "execution_count": 39,
   "id": "ab8eb484",
   "metadata": {},
   "outputs": [
    {
     "data": {
      "text/plain": [
       "2.5"
      ]
     },
     "execution_count": 39,
     "metadata": {},
     "output_type": "execute_result"
    }
   ],
   "source": [
    "min(c)"
   ]
  },
  {
   "cell_type": "code",
   "execution_count": 40,
   "id": "e5faefd0",
   "metadata": {},
   "outputs": [
    {
     "data": {
      "text/plain": [
       "30.5"
      ]
     },
     "execution_count": 40,
     "metadata": {},
     "output_type": "execute_result"
    }
   ],
   "source": [
    "sum(c)"
   ]
  },
  {
   "cell_type": "code",
   "execution_count": 42,
   "id": "0bc90ea1",
   "metadata": {},
   "outputs": [],
   "source": [
    "c.sort()"
   ]
  },
  {
   "cell_type": "code",
   "execution_count": 43,
   "id": "496c8bf7",
   "metadata": {},
   "outputs": [
    {
     "data": {
      "text/plain": [
       "[2.5, 5, 6, 8, 9]"
      ]
     },
     "execution_count": 43,
     "metadata": {},
     "output_type": "execute_result"
    }
   ],
   "source": [
    "c"
   ]
  },
  {
   "cell_type": "code",
   "execution_count": 44,
   "id": "fc590406",
   "metadata": {},
   "outputs": [
    {
     "data": {
      "text/plain": [
       "2.5"
      ]
     },
     "execution_count": 44,
     "metadata": {},
     "output_type": "execute_result"
    }
   ],
   "source": [
    "c[0]"
   ]
  },
  {
   "cell_type": "code",
   "execution_count": 45,
   "id": "34a0454b",
   "metadata": {},
   "outputs": [
    {
     "data": {
      "text/plain": [
       "8"
      ]
     },
     "execution_count": 45,
     "metadata": {},
     "output_type": "execute_result"
    }
   ],
   "source": [
    "c[3]"
   ]
  },
  {
   "cell_type": "code",
   "execution_count": 46,
   "id": "49144826",
   "metadata": {},
   "outputs": [
    {
     "data": {
      "text/plain": [
       "9"
      ]
     },
     "execution_count": 46,
     "metadata": {},
     "output_type": "execute_result"
    }
   ],
   "source": [
    "c[-1]"
   ]
  },
  {
   "cell_type": "code",
   "execution_count": null,
   "id": "aa67ac0d",
   "metadata": {},
   "outputs": [],
   "source": []
  }
 ],
 "metadata": {
  "kernelspec": {
   "display_name": "Python 3",
   "language": "python",
   "name": "python3"
  },
  "language_info": {
   "codemirror_mode": {
    "name": "ipython",
    "version": 3
   },
   "file_extension": ".py",
   "mimetype": "text/x-python",
   "name": "python",
   "nbconvert_exporter": "python",
   "pygments_lexer": "ipython3",
   "version": "3.7.0"
  }
 },
 "nbformat": 4,
 "nbformat_minor": 5
}
