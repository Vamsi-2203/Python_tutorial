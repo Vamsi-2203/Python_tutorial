{
 "cells": [
  {
   "cell_type": "markdown",
   "id": "dee3cb90",
   "metadata": {},
   "source": [
    "# Strings"
   ]
  },
  {
   "cell_type": "markdown",
   "id": "c6d45017",
   "metadata": {},
   "source": [
    "##  A string is a collection of alphabets and numbers and other character written within a single or double quotes. \n",
    "## it is a sequence of characters within quotes"
   ]
  },
  {
   "cell_type": "code",
   "execution_count": 13,
   "id": "9ee761d2",
   "metadata": {},
   "outputs": [],
   "source": [
    "v = 'code with you'"
   ]
  },
  {
   "cell_type": "code",
   "execution_count": 14,
   "id": "0ff84817",
   "metadata": {},
   "outputs": [],
   "source": [
    "cv = \"my name is vamsi\""
   ]
  },
  {
   "cell_type": "code",
   "execution_count": 15,
   "id": "700c0455",
   "metadata": {},
   "outputs": [
    {
     "data": {
      "text/plain": [
       "'code with you'"
      ]
     },
     "execution_count": 15,
     "metadata": {},
     "output_type": "execute_result"
    }
   ],
   "source": [
    "v"
   ]
  },
  {
   "cell_type": "code",
   "execution_count": 16,
   "id": "f45cf402",
   "metadata": {},
   "outputs": [
    {
     "data": {
      "text/plain": [
       "'code with youmy name is vamsi'"
      ]
     },
     "execution_count": 16,
     "metadata": {},
     "output_type": "execute_result"
    }
   ],
   "source": [
    "v + cv"
   ]
  },
  {
   "cell_type": "code",
   "execution_count": 17,
   "id": "744c1e21",
   "metadata": {},
   "outputs": [
    {
     "data": {
      "text/plain": [
       "'code with youcode with youcode with youcode with you'"
      ]
     },
     "execution_count": 17,
     "metadata": {},
     "output_type": "execute_result"
    }
   ],
   "source": [
    "v * 4"
   ]
  },
  {
   "cell_type": "markdown",
   "id": "16db14a2",
   "metadata": {},
   "source": [
    "# Methods"
   ]
  },
  {
   "cell_type": "code",
   "execution_count": 18,
   "id": "d739c0cc",
   "metadata": {},
   "outputs": [
    {
     "data": {
      "text/plain": [
       "'CODE WITH YOU'"
      ]
     },
     "execution_count": 18,
     "metadata": {},
     "output_type": "execute_result"
    }
   ],
   "source": [
    "v = 'code with you'\n",
    "v.upper()"
   ]
  },
  {
   "cell_type": "code",
   "execution_count": 20,
   "id": "3c9e6c17",
   "metadata": {},
   "outputs": [
    {
     "data": {
      "text/plain": [
       "'sfjshfjs'"
      ]
     },
     "execution_count": 20,
     "metadata": {},
     "output_type": "execute_result"
    }
   ],
   "source": [
    "g = 'SFJSHFJS'\n",
    "g.lower()"
   ]
  },
  {
   "cell_type": "code",
   "execution_count": 21,
   "id": "9fae96e9",
   "metadata": {},
   "outputs": [
    {
     "data": {
      "text/plain": [
       "['code', 'with', 'you']"
      ]
     },
     "execution_count": 21,
     "metadata": {},
     "output_type": "execute_result"
    }
   ],
   "source": [
    "v.split()"
   ]
  },
  {
   "cell_type": "code",
   "execution_count": 22,
   "id": "9c7a1582",
   "metadata": {},
   "outputs": [
    {
     "data": {
      "text/plain": [
       "'code with you'"
      ]
     },
     "execution_count": 22,
     "metadata": {},
     "output_type": "execute_result"
    }
   ],
   "source": [
    "v = '           code with you'\n",
    "v.strip()"
   ]
  },
  {
   "cell_type": "code",
   "execution_count": 26,
   "id": "8c070bf2",
   "metadata": {},
   "outputs": [
    {
     "data": {
      "text/plain": [
       "'d'"
      ]
     },
     "execution_count": 26,
     "metadata": {},
     "output_type": "execute_result"
    }
   ],
   "source": [
    "v[2]"
   ]
  },
  {
   "cell_type": "code",
   "execution_count": null,
   "id": "5fc0804e",
   "metadata": {},
   "outputs": [],
   "source": []
  },
  {
   "cell_type": "code",
   "execution_count": null,
   "id": "73558716",
   "metadata": {},
   "outputs": [],
   "source": []
  }
 ],
 "metadata": {
  "kernelspec": {
   "display_name": "Python 3",
   "language": "python",
   "name": "python3"
  },
  "language_info": {
   "codemirror_mode": {
    "name": "ipython",
    "version": 3
   },
   "file_extension": ".py",
   "mimetype": "text/x-python",
   "name": "python",
   "nbconvert_exporter": "python",
   "pygments_lexer": "ipython3",
   "version": "3.7.0"
  }
 },
 "nbformat": 4,
 "nbformat_minor": 5
}
